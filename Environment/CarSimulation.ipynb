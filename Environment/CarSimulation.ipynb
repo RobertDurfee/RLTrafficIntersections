{
 "cells": [
  {
   "cell_type": "markdown",
   "metadata": {},
   "source": [
    "# Car Simulation\n",
    "\n",
    "## Overview\n",
    "\n",
    "Now that we have path for our car to travel on, we need a means of simulating cars on that path. We should be able to define the car in terms of constants like acceleration capabilities, drag, size, etc. We should also be able to control variables like speed, throttle, breaking, PRNDL, etc. Notice we will not control direction (that is specified by the path)."
   ]
  },
  {
   "cell_type": "markdown",
   "metadata": {},
   "source": [
    "## Constants\n",
    "\n",
    "A car has certain properties that remain fixed. These will constrain the cars capabilities to prevent unrealistic outcomes (immediate acceleration/deceleration, etc.) in simulation. \n",
    "\n",
    "For the car's acceleration, we will adopt a simple model where throttle has a linear relationship with acceleration. Thus, to define a car's acceleration abilities, we define `max_throt_val` which is the maximum acceleration are car has"
   ]
  }
 ],
 "metadata": {
  "kernelspec": {
   "display_name": "Python 3",
   "language": "python",
   "name": "python3"
  },
  "language_info": {
   "codemirror_mode": {
    "name": "ipython",
    "version": 3
   },
   "file_extension": ".py",
   "mimetype": "text/x-python",
   "name": "python",
   "nbconvert_exporter": "python",
   "pygments_lexer": "ipython3",
   "version": "3.6.7"
  }
 },
 "nbformat": 4,
 "nbformat_minor": 2
}
