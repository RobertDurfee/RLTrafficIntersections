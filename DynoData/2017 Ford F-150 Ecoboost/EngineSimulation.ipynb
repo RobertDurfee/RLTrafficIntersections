{
 "cells": [
  {
   "cell_type": "code",
   "execution_count": 1,
   "metadata": {},
   "outputs": [
    {
     "name": "stderr",
     "output_type": "stream",
     "text": [
      "Using TensorFlow backend.\n"
     ]
    }
   ],
   "source": [
    "from keras.models import Sequential\n",
    "from keras.layers import LSTM, TimeDistributed, Dense, RepeatVector, Masking\n",
    "import numpy\n",
    "import os\n",
    "import re\n",
    "import pandas\n",
    "import sklearn.preprocessing"
   ]
  },
  {
   "cell_type": "code",
   "execution_count": 2,
   "metadata": {},
   "outputs": [],
   "source": [
    "csvs = list(filter(lambda file: re.match(r'^\\d{8} Test Data\\.txt$', file) is not None, os.listdir()))"
   ]
  },
  {
   "cell_type": "code",
   "execution_count": 4,
   "metadata": {},
   "outputs": [],
   "source": [
    "dfs = []\n",
    "\n",
    "for csv in csvs:\n",
    "    \n",
    "    df = pandas.read_csv('./' + csv, sep='\\t', header=0)\n",
    "    df = df[['Pedal_accel_pos_CAN[per]', 'Dyno_Spd[mph]']]\n",
    "    dfs.append(df)"
   ]
  },
  {
   "cell_type": "code",
   "execution_count": 5,
   "metadata": {},
   "outputs": [],
   "source": [
    "MAXLEN = max([len(df) for df in dfs])"
   ]
  },
  {
   "cell_type": "code",
   "execution_count": 6,
   "metadata": {},
   "outputs": [],
   "source": [
    "X = numpy.full([len(dfs), MAXLEN, 1], -1.0)\n",
    "Y = numpy.full([len(dfs), MAXLEN, 1], -1.0)\n",
    "\n",
    "min_max_scaler = sklearn.preprocessing.MinMaxScaler()\n",
    "\n",
    "for i in range(len(dfs)):\n",
    "    X[i][:len(dfs[i])] += min_max_scaler.fit_transform(dfs[i]['Pedal_accel_pos_CAN[per]'].values.reshape(-1, 1)) + 1\n",
    "    Y[i][:len(dfs[i])] += numpy.array([dfs[i]['Dyno_Spd[mph]']]).T + 1"
   ]
  },
  {
   "cell_type": "code",
   "execution_count": 7,
   "metadata": {},
   "outputs": [],
   "source": [
    "indices = numpy.arange(len(X))\n",
    "\n",
    "X = X[indices]\n",
    "Y = Y[indices]"
   ]
  },
  {
   "cell_type": "code",
   "execution_count": 8,
   "metadata": {},
   "outputs": [],
   "source": [
    "split = len(X) - len(X) // 10\n",
    "X_train, X_val = X[:split], X[split:]\n",
    "Y_train, Y_val = Y[:split], Y[split:]"
   ]
  },
  {
   "cell_type": "code",
   "execution_count": 9,
   "metadata": {},
   "outputs": [],
   "source": [
    "HIDDEN_SIZE = 10\n",
    "BATCH_SIZE = 1\n",
    "LAYERS = 1"
   ]
  },
  {
   "cell_type": "code",
   "execution_count": 10,
   "metadata": {},
   "outputs": [
    {
     "name": "stdout",
     "output_type": "stream",
     "text": [
      "_________________________________________________________________\n",
      "Layer (type)                 Output Shape              Param #   \n",
      "=================================================================\n",
      "masking_1 (Masking)          (None, 61561, 1)          0         \n",
      "_________________________________________________________________\n",
      "lstm_1 (LSTM)                (None, 10)                480       \n",
      "_________________________________________________________________\n",
      "repeat_vector_1 (RepeatVecto (None, 61561, 10)         0         \n",
      "_________________________________________________________________\n",
      "lstm_2 (LSTM)                (None, 61561, 10)         840       \n",
      "_________________________________________________________________\n",
      "time_distributed_1 (TimeDist (None, 61561, 1)          11        \n",
      "=================================================================\n",
      "Total params: 1,331\n",
      "Trainable params: 1,331\n",
      "Non-trainable params: 0\n",
      "_________________________________________________________________\n"
     ]
    }
   ],
   "source": [
    "model = Sequential()\n",
    "model.add(Masking(-1, input_shape=(MAXLEN, 1)))\n",
    "model.add(LSTM(HIDDEN_SIZE))\n",
    "model.add(RepeatVector(MAXLEN))\n",
    "for _ in range(LAYERS):\n",
    "    model.add(LSTM(HIDDEN_SIZE, return_sequences=True))\n",
    "model.add(TimeDistributed(Dense(1, activation='linear')))\n",
    "model.compile(loss='mean_squared_error', optimizer='adam', metrics=['accuracy'])\n",
    "model.summary()"
   ]
  },
  {
   "cell_type": "code",
   "execution_count": null,
   "metadata": {},
   "outputs": [
    {
     "name": "stdout",
     "output_type": "stream",
     "text": [
      "Train on 86 samples, validate on 9 samples\n",
      "Epoch 1/1\n"
     ]
    }
   ],
   "source": [
    "model.fit(X_train, Y_train, batch_size=BATCH_SIZE, epochs=1, validation_data=(X_val, Y_val))"
   ]
  }
 ],
 "metadata": {
  "kernelspec": {
   "display_name": "Python 3",
   "language": "python",
   "name": "python3"
  },
  "language_info": {
   "codemirror_mode": {
    "name": "ipython",
    "version": 3
   },
   "file_extension": ".py",
   "mimetype": "text/x-python",
   "name": "python",
   "nbconvert_exporter": "python",
   "pygments_lexer": "ipython3",
   "version": "3.6.7"
  }
 },
 "nbformat": 4,
 "nbformat_minor": 2
}
