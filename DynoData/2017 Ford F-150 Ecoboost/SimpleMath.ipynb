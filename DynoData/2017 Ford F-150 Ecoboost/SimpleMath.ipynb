{
 "cells": [
  {
   "cell_type": "code",
   "execution_count": null,
   "metadata": {},
   "outputs": [],
   "source": [
    "from keras.models import Sequential\n",
    "from keras import layers\n",
    "import numpy as np"
   ]
  },
  {
   "cell_type": "markdown",
   "metadata": {},
   "source": [
    "# Simple Math\n",
    "\n",
    "## Overview\n",
    "\n",
    "This is an simple extension to the addition RNN example provided in Keras documentation. Instead of just supporting addition, this will support subtraction, multiplication, and division."
   ]
  },
  {
   "cell_type": "markdown",
   "metadata": {},
   "source": [
    "## The Data\n",
    "\n",
    "To train the RNN, we need a training/validation data set. This needs to be encoded in a vector to be understood by the network.\n",
    "\n",
    "Here are the constants for our experiments. Maximum length is determined by the number digits for each operand plus one for carry and plus one for possible negative sign on result (negative input not allowed at the moment)."
   ]
  },
  {
   "cell_type": "code",
   "execution_count": null,
   "metadata": {},
   "outputs": [],
   "source": [
    "TRAINING_SIZE = 50000\n",
    "DIGITS = 3\n",
    "REVERSE = True\n",
    "MAXLEN = 2 * DIGITS + 2"
   ]
  },
  {
   "cell_type": "markdown",
   "metadata": {},
   "source": [
    "This will output a random number with the specified number of maximum digits."
   ]
  },
  {
   "cell_type": "code",
   "execution_count": null,
   "metadata": {},
   "outputs": [],
   "source": [
    "operand = lambda: np.random.randint(0, 10 ** DIGITS)"
   ]
  },
  {
   "cell_type": "markdown",
   "metadata": {},
   "source": [
    "We also need to randomly select an operation."
   ]
  },
  {
   "cell_type": "code",
   "execution_count": null,
   "metadata": {},
   "outputs": [],
   "source": [
    "operator = lambda: np.random.choice([ '+', '-', '*', '/' ])"
   ]
  },
  {
   "cell_type": "markdown",
   "metadata": {},
   "source": [
    "Lastly, we need to evaluate an randomly generated expression."
   ]
  },
  {
   "cell_type": "code",
   "execution_count": null,
   "metadata": {},
   "outputs": [],
   "source": [
    "def evaluate(a, operator, b):\n",
    "    \n",
    "    if operator == '+':\n",
    "        return a + b\n",
    "    elif operator == '-':\n",
    "        return a - b\n",
    "    elif operator == '*':\n",
    "        return a * b\n",
    "    elif operator == '/' and b != 0:\n",
    "        return a / b\n",
    "    \n",
    "    return float('nan')"
   ]
  },
  {
   "cell_type": "markdown",
   "metadata": {},
   "source": [
    "Now we can put this into a loop to generate a data set."
   ]
  },
  {
   "cell_type": "code",
   "execution_count": null,
   "metadata": {},
   "outputs": [],
   "source": [
    "expressions = []\n",
    "results = []\n",
    "seen = set()\n",
    "\n",
    "while len(expressions) < TRAINING_SIZE:\n",
    "    \n",
    "    a, b = operand(), operand()\n",
    "    op = operator()\n",
    "    \n",
    "    if op == '/' and b == 0:\n",
    "        continue\n",
    "    \n",
    "    key = tuple(sorted([a, b])) \n",
    "    if key in seen:\n",
    "        continue\n",
    "    seen.add(key)\n",
    "    \n",
    "    expression = ('{}' + op + '{}').format(a, b)\n",
    "    expression += ' ' * (MAXLEN - len(expression))\n",
    "    \n",
    "    result = str(evaluate(a, op, b))\n",
    "    if len(result) > MAXLEN:\n",
    "        result = result[:MAXLEN]\n",
    "    else:\n",
    "        result += ' ' * (MAXLEN - len(result))\n",
    "    \n",
    "    if REVERSE:\n",
    "        expression = expression[::-1]\n",
    "    \n",
    "    expressions.append(expression)\n",
    "    results.append(result)"
   ]
  },
  {
   "cell_type": "markdown",
   "metadata": {},
   "source": [
    "Now that we have the data set, we need to engineer it to work with the network by converting the data points into vectors."
   ]
  },
  {
   "cell_type": "code",
   "execution_count": null,
   "metadata": {},
   "outputs": [],
   "source": [
    "characters = list(' .0123456789+-*/')\n",
    "\n",
    "X = np.zeros((len(expressions), MAXLEN, len(characters)), dtype=np.bool)\n",
    "Y = np.zeros((len(results), MAXLEN, len(characters)), dtype=np.bool)\n",
    "\n",
    "for i in range(len(expressions)):\n",
    "    for j in range(len(expressions[i])):\n",
    "        X[i][j][characters.index(expressions[i][j])] = True\n",
    "\n",
    "for i in range(len(results)):\n",
    "    for j in range(len(results[i])):\n",
    "        Y[i][j][characters.index(results[i][j])] = True\n",
    "        \n",
    "indices = np.arange(len(X))\n",
    "np.random.shuffle(indices)\n",
    "X = X[indices]\n",
    "Y = Y[indices]"
   ]
  },
  {
   "cell_type": "markdown",
   "metadata": {},
   "source": [
    "We set aside 10% of the data for validation."
   ]
  },
  {
   "cell_type": "code",
   "execution_count": null,
   "metadata": {},
   "outputs": [],
   "source": [
    "split = len(X) - len(X) // 10\n",
    "\n",
    "X_train, X_val = X[:split], X[split:]\n",
    "Y_train, Y_val = Y[:split], Y[split:]"
   ]
  },
  {
   "cell_type": "markdown",
   "metadata": {},
   "source": [
    "## The Model\n",
    "\n",
    "Here are the constants for our experiment model."
   ]
  },
  {
   "cell_type": "code",
   "execution_count": null,
   "metadata": {},
   "outputs": [],
   "source": [
    "RNN = layers.LSTM\n",
    "HIDDEN_SIZE = 128\n",
    "BATCH_SIZE = 128\n",
    "LAYERS = 1"
   ]
  },
  {
   "cell_type": "markdown",
   "metadata": {},
   "source": [
    "The model specification in Keras."
   ]
  },
  {
   "cell_type": "code",
   "execution_count": null,
   "metadata": {},
   "outputs": [],
   "source": [
    "model = Sequential()\n",
    "model.add(RNN(HIDDEN_SIZE, input_shape=(MAXLEN, len(characters))))\n",
    "model.add(layers.RepeatVector(MAXLEN))\n",
    "for _ in range(LAYERS):\n",
    "    model.add(RNN(HIDDEN_SIZE, return_sequences=True))\n",
    "model.add(layers.TimeDistributed(layers.Dense(len(characters), activation='softmax')))\n",
    "model.compile(loss='categorical_crossentropy', optimizer='adam', metrics=['accuracy'])\n",
    "model.summary()"
   ]
  },
  {
   "cell_type": "markdown",
   "metadata": {},
   "source": [
    "## Training"
   ]
  },
  {
   "cell_type": "code",
   "execution_count": null,
   "metadata": {},
   "outputs": [],
   "source": [
    "for iteration in range(1, 200):\n",
    "    \n",
    "    print()\n",
    "    print('-' * 50)\n",
    "    print('iteration', iteration)\n",
    "    \n",
    "    model.fit(X_train, Y_train, batch_size=BATCH_SIZE, epochs=1, validation_data=(X_val, Y_val))\n",
    "    \n",
    "    for i in range(10):\n",
    "        \n",
    "        index = np.random.randint(0, len(X_val))\n",
    "        x, y = X_val[[index]], Y_val[[index]]\n",
    "        \n",
    "        prediction = model.predict_classes(x, verbose=0)\n",
    "        \n",
    "        decoded_expression = ''        \n",
    "        for i in range(len(x[0])):\n",
    "            decoded_expression += characters[np.asscalar(np.argwhere(x[0][i]))]\n",
    "        decoded_expression = decoded_expression[::-1]\n",
    "        \n",
    "        decoded_actual = ''\n",
    "        for i in range(len(y[0])):\n",
    "            decoded_actual += characters[np.asscalar(np.argwhere(y[0][i]))]\n",
    "                \n",
    "        decoded_prediction = ''\n",
    "        for i in range(len(prediction[0])):\n",
    "            decoded_prediction += characters[prediction[0][i]]\n",
    "        \n",
    "        print(f'Expression: {decoded_expression} Prediction: {decoded_prediction} Actual: {decoded_actual}')"
   ]
  }
 ],
 "metadata": {
  "kernelspec": {
   "display_name": "Python 3",
   "language": "python",
   "name": "python3"
  },
  "language_info": {
   "codemirror_mode": {
    "name": "ipython",
    "version": 3
   },
   "file_extension": ".py",
   "mimetype": "text/x-python",
   "name": "python",
   "nbconvert_exporter": "python",
   "pygments_lexer": "ipython3",
   "version": "3.6.7"
  }
 },
 "nbformat": 4,
 "nbformat_minor": 2
}
